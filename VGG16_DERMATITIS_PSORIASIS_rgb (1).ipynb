{
  "cells": [
    {
      "cell_type": "code",
      "execution_count": 1,
      "metadata": {
        "id": "7g16NOn31ny5"
      },
      "outputs": [],
      "source": [
        "import keras\n",
        "from tensorflow.keras.preprocessing.image import ImageDataGenerator\n",
        "from keras.models import Sequential\n",
        "from keras.layers import Convolution2D\n",
        "from keras.layers import MaxPooling2D\n",
        "from tensorflow.keras.applications.vgg16 import VGG16\n",
        "from tensorflow.keras.applications.vgg16 import preprocess_input\n",
        "from tensorflow.keras.optimizers import Adam\n",
        "from keras.layers import Flatten\n",
        "from keras.layers import Dense,Dropout\n",
        "import matplotlib.pyplot as plt\n",
        "import os\n"
      ]
    },
    {
      "cell_type": "code",
      "execution_count": 2,
      "metadata": {
        "id": "IhdKJrcf2EcN"
      },
      "outputs": [],
      "source": [
        "# Directory with training dermatitis pictures\n",
        "traindermatitis = os.path.join('/content/drive/MyDrive/Proyect/dermatitis psoriasis train/dermatitis')\n",
        "\n",
        "# Directory with training psoriasis pictures\n",
        "trainpsoriasis = os.path.join('/content/drive/MyDrive/Proyect/dermatitis psoriasis train/psoriasis')\n",
        "\n",
        "# Directory with validation dermatitis pictures\n",
        "valdermatitis = os.path.join('/content/drive/MyDrive/Proyect/dermatitis psoriasis test/dermatitis')\n",
        "\n",
        "# Directory with validation psoriasis pictures\n",
        "valpsoriasis = os.path.join('/content/drive/MyDrive/Proyect/dermatitis psoriasis test/psoriasis')"
      ]
    },
    {
      "cell_type": "code",
      "execution_count": 3,
      "metadata": {
        "id": "cYevddyM2EaG",
        "colab": {
          "base_uri": "https://localhost:8080/"
        },
        "outputId": "3d270f36-b054-458f-addb-ced03dbec042"
      },
      "outputs": [
        {
          "output_type": "stream",
          "name": "stdout",
          "text": [
            "total training dermatitis images: 1042\n",
            "total training psoriasis images: 922\n",
            "total validation dermatitis images: 177\n",
            "total validation psoriasis images: 171\n"
          ]
        }
      ],
      "source": [
        "print(f'total training dermatitis images: {len(os.listdir(traindermatitis))}')\n",
        "print(f'total training psoriasis images: {len(os.listdir(trainpsoriasis))}')\n",
        "print(f'total validation dermatitis images: {len(os.listdir(valdermatitis))}')\n",
        "print(f'total validation psoriasis images: {len(os.listdir(valpsoriasis))}')"
      ]
    },
    {
      "cell_type": "code",
      "execution_count": 4,
      "metadata": {
        "id": "FV7HNfDC2EU1",
        "colab": {
          "base_uri": "https://localhost:8080/"
        },
        "outputId": "9a0f1aa9-659d-4781-894e-1407828ff7d0"
      },
      "outputs": [
        {
          "output_type": "stream",
          "name": "stdout",
          "text": [
            "Found 1964 images belonging to 2 classes.\n",
            "Found 348 images belonging to 2 classes.\n"
          ]
        }
      ],
      "source": [
        "from keras.preprocessing.image import ImageDataGenerator\n",
        "\n",
        "# Apply data augmentation\n",
        "train_datagen = ImageDataGenerator(preprocessing_function=preprocess_input,\n",
        "      rotation_range=45,\n",
        "      width_shift_range=0.2,\n",
        "      height_shift_range=0.2,\n",
        "      shear_range=0.2,\n",
        "      zoom_range=0.2,\n",
        "      horizontal_flip=True,\n",
        "      fill_mode='nearest')\n",
        "\n",
        "validation_datagen = ImageDataGenerator(preprocessing_function=preprocess_input, rescale=1./155)\n",
        "\n",
        "# Flow training images in batches of 128 using train_datagen generator\n",
        "train_generator = train_datagen.flow_from_directory(\n",
        "        '/content/drive/MyDrive/Proyect/dermatitis psoriasis train',  # This is the source directory for training images\n",
        "        target_size=(224, 224),  # All images will be resized\n",
        "        batch_size=64,\n",
        "        # Since we use binary_crossentropy loss, we need binary labels\n",
        "        class_mode='categorical')\n",
        "\n",
        "# Flow training images in batches of 128 using train_datagen generator\n",
        "validation_generator = validation_datagen.flow_from_directory(\n",
        "        '/content/drive/MyDrive/Proyect/dermatitis psoriasis test',  # This is the source directory for training images\n",
        "        target_size=(224, 224),  # All images will be resized\n",
        "        batch_size=32,\n",
        "        # Since we use binary_crossentropy loss, we need binary labels\n",
        "        class_mode='categorical')"
      ]
    },
    {
      "cell_type": "code",
      "execution_count": 5,
      "metadata": {
        "id": "tPcPSdEe2ESS",
        "colab": {
          "base_uri": "https://localhost:8080/"
        },
        "outputId": "1232eaca-a0af-427e-d7fe-386d8f84fb90"
      },
      "outputs": [
        {
          "output_type": "stream",
          "name": "stdout",
          "text": [
            "Downloading data from https://storage.googleapis.com/tensorflow/keras-applications/vgg16/vgg16_weights_tf_dim_ordering_tf_kernels_notop.h5\n",
            "58889256/58889256 [==============================] - 0s 0us/step\n"
          ]
        }
      ],
      "source": [
        "vvg = VGG16(input_shape=(224,224, 3), include_top=False,weights = 'imagenet')"
      ]
    },
    {
      "cell_type": "code",
      "execution_count": 6,
      "metadata": {
        "id": "MkFXN6Al2EPw"
      },
      "outputs": [],
      "source": [
        "for layers in (vvg.layers):\n",
        "    layers.trainable = False"
      ]
    },
    {
      "cell_type": "code",
      "execution_count": 7,
      "metadata": {
        "id": "41twAsd82ENU",
        "colab": {
          "base_uri": "https://localhost:8080/"
        },
        "outputId": "ab86263a-bf4e-4498-e0fb-9f9825537957"
      },
      "outputs": [
        {
          "output_type": "execute_result",
          "data": {
            "text/plain": [
              "[<keras.src.engine.input_layer.InputLayer at 0x793ddbf6a350>,\n",
              " <keras.src.layers.convolutional.conv2d.Conv2D at 0x793ddb38f940>,\n",
              " <keras.src.layers.convolutional.conv2d.Conv2D at 0x793ddb38ffd0>,\n",
              " <keras.src.layers.pooling.max_pooling2d.MaxPooling2D at 0x793dda9acf40>,\n",
              " <keras.src.layers.convolutional.conv2d.Conv2D at 0x793dda9ad6f0>,\n",
              " <keras.src.layers.convolutional.conv2d.Conv2D at 0x793dda9ada50>,\n",
              " <keras.src.layers.pooling.max_pooling2d.MaxPooling2D at 0x793dda9ae8f0>,\n",
              " <keras.src.layers.convolutional.conv2d.Conv2D at 0x793ddb38eb00>,\n",
              " <keras.src.layers.convolutional.conv2d.Conv2D at 0x793dda9ae0e0>,\n",
              " <keras.src.layers.convolutional.conv2d.Conv2D at 0x793dda9adf90>,\n",
              " <keras.src.layers.pooling.max_pooling2d.MaxPooling2D at 0x793ddaa0dbd0>,\n",
              " <keras.src.layers.convolutional.conv2d.Conv2D at 0x793ddaa0e020>,\n",
              " <keras.src.layers.convolutional.conv2d.Conv2D at 0x793ddaa0e380>,\n",
              " <keras.src.layers.convolutional.conv2d.Conv2D at 0x793ddaa0f250>,\n",
              " <keras.src.layers.pooling.max_pooling2d.MaxPooling2D at 0x793ddaa0d570>,\n",
              " <keras.src.layers.convolutional.conv2d.Conv2D at 0x793dda9ad240>,\n",
              " <keras.src.layers.convolutional.conv2d.Conv2D at 0x793ddaa0ea40>,\n",
              " <keras.src.layers.convolutional.conv2d.Conv2D at 0x793dda9ae1a0>,\n",
              " <keras.src.layers.pooling.max_pooling2d.MaxPooling2D at 0x793ddaa34dc0>]"
            ]
          },
          "metadata": {},
          "execution_count": 7
        }
      ],
      "source": [
        "vvg.layers"
      ]
    },
    {
      "cell_type": "code",
      "execution_count": 8,
      "metadata": {
        "id": "1OMds92w2EK6"
      },
      "outputs": [],
      "source": [
        "import tensorflow as tf\n",
        "\n",
        "model = Sequential()\n",
        "model.add(vvg)\n",
        "\n",
        "# Add new layers\n",
        "model.add(Flatten())\n",
        "model.add(Dense(4096 , activation='relu'))\n",
        "model.add(Dropout(0.5))\n",
        "model.add(Dense(4096 , activation='relu'))\n",
        "model.add(Dropout(0.3))\n",
        "model.add(Dense(4096, activation='relu'))\n",
        "model.add(Dropout(0.4))\n",
        "model.add(Dense(2, activation='softmax'))\n",
        "\n",
        "model.compile(optimizer = Adam(learning_rate=0.0001),\n",
        "             loss='categorical_crossentropy',\n",
        "             metrics=['accuracy'])"
      ]
    },
    {
      "cell_type": "code",
      "execution_count": 9,
      "metadata": {
        "id": "eaAb5CM72EIY",
        "colab": {
          "base_uri": "https://localhost:8080/"
        },
        "outputId": "6b015292-4bf2-42a8-cef2-4c0e6798818b"
      },
      "outputs": [
        {
          "output_type": "stream",
          "name": "stdout",
          "text": [
            "Model: \"sequential\"\n",
            "_________________________________________________________________\n",
            " Layer (type)                Output Shape              Param #   \n",
            "=================================================================\n",
            " vgg16 (Functional)          (None, 7, 7, 512)         14714688  \n",
            "                                                                 \n",
            " flatten (Flatten)           (None, 25088)             0         \n",
            "                                                                 \n",
            " dense (Dense)               (None, 4096)              102764544 \n",
            "                                                                 \n",
            " dropout (Dropout)           (None, 4096)              0         \n",
            "                                                                 \n",
            " dense_1 (Dense)             (None, 4096)              16781312  \n",
            "                                                                 \n",
            " dropout_1 (Dropout)         (None, 4096)              0         \n",
            "                                                                 \n",
            " dense_2 (Dense)             (None, 4096)              16781312  \n",
            "                                                                 \n",
            " dropout_2 (Dropout)         (None, 4096)              0         \n",
            "                                                                 \n",
            " dense_3 (Dense)             (None, 2)                 8194      \n",
            "                                                                 \n",
            "=================================================================\n",
            "Total params: 151050050 (576.21 MB)\n",
            "Trainable params: 136335362 (520.08 MB)\n",
            "Non-trainable params: 14714688 (56.13 MB)\n",
            "_________________________________________________________________\n"
          ]
        }
      ],
      "source": [
        "model.summary()"
      ]
    },
    {
      "cell_type": "code",
      "execution_count": 10,
      "metadata": {
        "colab": {
          "base_uri": "https://localhost:8080/"
        },
        "id": "hWTv8LYG2EF0",
        "outputId": "f7511656-dbd8-4d63-dd7d-57081d80b7cb"
      },
      "outputs": [
        {
          "output_type": "stream",
          "name": "stdout",
          "text": [
            "Epoch 1/20\n",
            "30/30 [==============================] - 1401s 46s/step - loss: 9.0549 - accuracy: 0.5247 - val_loss: 0.6828 - val_accuracy: 0.5287\n",
            "Epoch 2/20\n",
            "30/30 [==============================] - 1382s 46s/step - loss: 1.8726 - accuracy: 0.6137 - val_loss: 0.7011 - val_accuracy: 0.5086\n",
            "Epoch 3/20\n",
            "30/30 [==============================] - 1378s 46s/step - loss: 1.6918 - accuracy: 0.6468 - val_loss: 0.7021 - val_accuracy: 0.5086\n",
            "Epoch 4/20\n",
            "30/30 [==============================] - 1369s 46s/step - loss: 1.6820 - accuracy: 0.6484 - val_loss: 0.6912 - val_accuracy: 0.5115\n",
            "Epoch 5/20\n",
            "30/30 [==============================] - 1375s 46s/step - loss: 1.4678 - accuracy: 0.6853 - val_loss: 0.6782 - val_accuracy: 0.5345\n",
            "Epoch 6/20\n",
            "30/30 [==============================] - 1372s 46s/step - loss: 1.3248 - accuracy: 0.6895 - val_loss: 0.6792 - val_accuracy: 0.5374\n",
            "Epoch 7/20\n",
            "30/30 [==============================] - 1376s 46s/step - loss: 1.3141 - accuracy: 0.6811 - val_loss: 0.6742 - val_accuracy: 0.5517\n",
            "Epoch 8/20\n",
            "30/30 [==============================] - 1378s 46s/step - loss: 1.2771 - accuracy: 0.6863 - val_loss: 0.7138 - val_accuracy: 0.5086\n",
            "Epoch 9/20\n",
            "30/30 [==============================] - 1379s 46s/step - loss: 1.0684 - accuracy: 0.6995 - val_loss: 0.6870 - val_accuracy: 0.5086\n",
            "Epoch 10/20\n",
            "30/30 [==============================] - 1375s 46s/step - loss: 1.0085 - accuracy: 0.7016 - val_loss: 0.6920 - val_accuracy: 0.5086\n",
            "Epoch 11/20\n",
            "30/30 [==============================] - 1372s 46s/step - loss: 0.8062 - accuracy: 0.7258 - val_loss: 0.6836 - val_accuracy: 0.5086\n",
            "Epoch 12/20\n",
            "30/30 [==============================] - 1375s 46s/step - loss: 0.7066 - accuracy: 0.7505 - val_loss: 0.6980 - val_accuracy: 0.5086\n",
            "Epoch 13/20\n",
            "30/30 [==============================] - 1373s 46s/step - loss: 0.7573 - accuracy: 0.7347 - val_loss: 0.6883 - val_accuracy: 0.5086\n",
            "Epoch 14/20\n",
            "30/30 [==============================] - 1373s 46s/step - loss: 0.6508 - accuracy: 0.7516 - val_loss: 0.6918 - val_accuracy: 0.5086\n",
            "Epoch 15/20\n",
            "30/30 [==============================] - 1374s 46s/step - loss: 0.6577 - accuracy: 0.7405 - val_loss: 0.6891 - val_accuracy: 0.5086\n",
            "Epoch 16/20\n",
            "30/30 [==============================] - 1375s 46s/step - loss: 0.6069 - accuracy: 0.7695 - val_loss: 0.6852 - val_accuracy: 0.5115\n",
            "Epoch 17/20\n",
            "30/30 [==============================] - 1369s 46s/step - loss: 0.6668 - accuracy: 0.7484 - val_loss: 0.6850 - val_accuracy: 0.5259\n",
            "Epoch 18/20\n",
            "30/30 [==============================] - 1376s 46s/step - loss: 0.5973 - accuracy: 0.7579 - val_loss: 0.6851 - val_accuracy: 0.5086\n",
            "Epoch 19/20\n",
            "30/30 [==============================] - 1378s 46s/step - loss: 0.6048 - accuracy: 0.7511 - val_loss: 0.6866 - val_accuracy: 0.5115\n",
            "Epoch 20/20\n",
            "30/30 [==============================] - 1378s 46s/step - loss: 0.5312 - accuracy: 0.7758 - val_loss: 0.6851 - val_accuracy: 0.5115\n"
          ]
        }
      ],
      "source": [
        "history = model.fit(\n",
        "      train_generator,\n",
        "      steps_per_epoch=30,\n",
        "      epochs=20,\n",
        "      verbose=1,\n",
        "      validation_data = validation_generator,\n",
        "      validation_steps=11)"
      ]
    },
    {
      "cell_type": "code",
      "execution_count": null,
      "metadata": {
        "id": "VrS_Q2O3yGJI"
      },
      "outputs": [],
      "source": [
        "import torch\n",
        "torch.save(model, \"/content/drive/MyDrive/Proyect/vgg16model.pth\")"
      ]
    },
    {
      "cell_type": "code",
      "execution_count": 13,
      "metadata": {
        "id": "-c1CmvUcwVjl",
        "colab": {
          "base_uri": "https://localhost:8080/"
        },
        "outputId": "1f8c9199-ae2e-4b41-ab49-8a62b73cf3f1"
      },
      "outputs": [
        {
          "output_type": "stream",
          "name": "stdout",
          "text": [
            "mv: cannot stat 'mi_modelo': No such file or directory\n"
          ]
        }
      ],
      "source": [
        "model.save('vgg16', save_format='tf')\n",
        "\n",
        "# Mover el modelo guardado a Google Drive\n",
        "!mv vgg16 /content/gdrive/My\\ Drive/"
      ]
    },
    {
      "cell_type": "code",
      "execution_count": 12,
      "metadata": {
        "id": "5_Xj7pvlvKuy"
      },
      "outputs": [],
      "source": [
        "model.save('/content/gdrive/My Drive/modelovgg16.keras')"
      ]
    },
    {
      "cell_type": "code",
      "execution_count": null,
      "metadata": {
        "colab": {
          "base_uri": "https://localhost:8080/",
          "height": 887
        },
        "id": "wZIbCxpa2EDH",
        "outputId": "d2053325-fb23-4af5-a18d-f8e8ab556789"
      },
      "outputs": [
        {
          "data": {
            "image/png": "[encoded data removed]",
            "text/plain": [
              "<Figure size 640x480 with 1 Axes>"
            ]
          },
          "metadata": {},
          "output_type": "display_data"
        },
        {
          "data": {
            "image/png": "[encoded data removed]",
            "text/plain": [
              "<Figure size 640x480 with 1 Axes>"
            ]
          },
          "metadata": {},
          "output_type": "display_data"
        }
      ],
      "source": [
        "##Curvas de validación y trainning accuracy\n",
        "import matplotlib.pyplot as plt\n",
        "\n",
        "def plot_loss_acc(history):\n",
        "  '''Plots the training and validation loss and accuracy from a history object'''\n",
        "  acc = history.history['accuracy']\n",
        "  val_acc = history.history['val_accuracy']\n",
        "  loss = history.history['loss']\n",
        "  val_loss = history.history['val_loss']\n",
        "\n",
        "  epochs = range(len(acc))\n",
        "\n",
        "  plt.plot(epochs, acc, 'ro', label='Training accuracy')\n",
        "  plt.plot(epochs, val_acc, 'b', label='Validation accuracy')\n",
        "  plt.title('Training and validation accuracy')\n",
        "\n",
        "  plt.figure()\n",
        "\n",
        "  plt.plot(epochs, loss, 'ro', label='Training Loss')\n",
        "  plt.plot(epochs, val_loss, 'b', label='Validation Loss')\n",
        "  plt.title('Training and validation loss')\n",
        "  plt.legend()\n",
        "\n",
        "  plt.show()\n",
        "  # Plot training results\n",
        "plot_loss_acc(history)"
      ]
    },
    {
      "cell_type": "code",
      "execution_count": null,
      "metadata": {
        "id": "TlLi8_RZ5qAF"
      },
      "outputs": [],
      "source": [
        "import numpy as np\n",
        "import keras.utils as image\n",
        "img_size = (224, 224)\n",
        "img = image.load_img('/content/derm (40).jpg', target_size=img_size)\n",
        "x = image.img_to_array(img)\n",
        "x = np.expand_dims(x, axis=0)\n",
        "images = np.vstack([x])"
      ]
    },
    {
      "cell_type": "code",
      "execution_count": null,
      "metadata": {
        "colab": {
          "base_uri": "https://localhost:8080/"
        },
        "id": "UyIAEmQs5p9N",
        "outputId": "6fbb5d4e-1257-4156-8b4a-ee7f35e270a7"
      },
      "outputs": [
        {
          "data": {
            "text/plain": [
              "array([[[[190., 236., 233.],\n",
              "         [190., 236., 233.],\n",
              "         [152., 155., 148.],\n",
              "         ...,\n",
              "         [242., 157., 136.],\n",
              "         [255., 160., 102.],\n",
              "         [255., 160., 102.]],\n",
              "\n",
              "        [[190., 236., 233.],\n",
              "         [190., 236., 233.],\n",
              "         [152., 155., 148.],\n",
              "         ...,\n",
              "         [242., 157., 136.],\n",
              "         [255., 160., 102.],\n",
              "         [255., 160., 102.]],\n",
              "\n",
              "        [[190., 236., 233.],\n",
              "         [190., 236., 233.],\n",
              "         [152., 155., 148.],\n",
              "         ...,\n",
              "         [242., 157., 136.],\n",
              "         [255., 160., 102.],\n",
              "         [255., 160., 102.]],\n",
              "\n",
              "        ...,\n",
              "\n",
              "        [[172., 223., 216.],\n",
              "         [172., 223., 216.],\n",
              "         [173., 226., 218.],\n",
              "         ...,\n",
              "         [ 98., 118., 106.],\n",
              "         [ 98., 120., 108.],\n",
              "         [ 98., 120., 108.]],\n",
              "\n",
              "        [[172., 223., 216.],\n",
              "         [172., 223., 216.],\n",
              "         [173., 226., 218.],\n",
              "         ...,\n",
              "         [ 98., 118., 106.],\n",
              "         [ 98., 120., 108.],\n",
              "         [ 98., 120., 108.]],\n",
              "\n",
              "        [[172., 223., 216.],\n",
              "         [172., 223., 216.],\n",
              "         [173., 226., 218.],\n",
              "         ...,\n",
              "         [ 98., 118., 106.],\n",
              "         [ 98., 120., 108.],\n",
              "         [ 98., 120., 108.]]]], dtype=float32)"
            ]
          },
          "execution_count": 344,
          "metadata": {},
          "output_type": "execute_result"
        }
      ],
      "source": [
        "images"
      ]
    },
    {
      "cell_type": "code",
      "execution_count": null,
      "metadata": {
        "colab": {
          "base_uri": "https://localhost:8080/"
        },
        "id": "_oycKVF75p09",
        "outputId": "b1a13433-6834-443e-8e2c-9432de3ea8e5"
      },
      "outputs": [
        {
          "name": "stdout",
          "output_type": "stream",
          "text": [
            "1/1 [==============================] - 1s 519ms/step\n"
          ]
        },
        {
          "data": {
            "text/plain": [
              "array([[0.48974505, 0.510255  ]], dtype=float32)"
            ]
          },
          "execution_count": 345,
          "metadata": {},
          "output_type": "execute_result"
        }
      ],
      "source": [
        "y_proba=model.predict(images)\n",
        "y_proba"
      ]
    }
  ],
  "metadata": {
    "colab": {
      "provenance": []
    },
    "kernelspec": {
      "display_name": "Python 3",
      "name": "python3"
    },
    "language_info": {
      "name": "python"
    }
  },
  "nbformat": 4,
  "nbformat_minor": 0
}